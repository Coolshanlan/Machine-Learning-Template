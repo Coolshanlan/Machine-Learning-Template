{
 "cells": [
  {
   "cell_type": "code",
   "execution_count": 1,
   "metadata": {},
   "outputs": [],
   "source": [
    "import pandas as pd\n",
    "import numpy as np\n",
    "from sklearn.ensemble import RandomForestClassifier\n",
    "from sklearn.preprocessing import QuantileTransformer\n",
    "from sklearn.metrics import accuracy_score\n",
    "from sklearn.model_selection import StratifiedKFold, RepeatedStratifiedKFold\n",
    "from imblearn.combine import SMOTEENN\n",
    "import sys\n",
    "sys.path.append('/home/coolshan/Project/Efficient-Pytorch-Template')\n",
    "from ml_template.utils import *\n",
    "from ml_template.model.ml_model import *\n",
    "data_df = pd.read_excel('data/train.xlsx')\n",
    "test_df = pd.read_excel('data/test.xlsx')\n",
    "submission_df = pd.read_csv('data/submission.csv')"
   ]
  },
  {
   "cell_type": "code",
   "execution_count": 2,
   "metadata": {},
   "outputs": [],
   "source": [
    "data = data_df.values[:,:-1]\n",
    "label=data_df.values[:,-1]\n",
    "qt = QuantileTransformer(n_quantiles=100)\n",
    "data = qt.fit_transform(data)"
   ]
  },
  {
   "cell_type": "code",
   "execution_count": 3,
   "metadata": {},
   "outputs": [
    {
     "name": "stdout",
     "output_type": "stream",
     "text": [
      "3510 393 0.10069177555726365\n"
     ]
    },
    {
     "name": "stderr",
     "output_type": "stream",
     "text": [
      "                                                                              \r"
     ]
    },
    {
     "name": "stdout",
     "output_type": "stream",
     "text": [
      "Parameter containing:\n",
      "tensor([[0.0000, 0.0000],\n",
      "        [0.9936, 0.9936],\n",
      "        [0.0000, 0.0000],\n",
      "        [0.0000, 0.0000],\n",
      "        [1.0420, 1.0420],\n",
      "        [1.1192, 1.1192],\n",
      "        [0.0000, 0.0000],\n",
      "        [0.0000, 0.0000],\n",
      "        [0.0000, 0.0000],\n",
      "        [0.0000, 0.0000],\n",
      "        [0.0000, 0.0000],\n",
      "        [0.0000, 0.0000],\n",
      "        [0.8991, 0.8991],\n",
      "        [0.0000, 0.0000],\n",
      "        [0.0000, 0.0000],\n",
      "        [1.0956, 1.0956]], requires_grad=True)\n"
     ]
    },
    {
     "name": "stderr",
     "output_type": "stream",
     "text": [
      "                                                                              \r"
     ]
    },
    {
     "name": "stdout",
     "output_type": "stream",
     "text": [
      "\n",
      "\n",
      "====== CV:0 ======\n",
      "             model  eval_metric\n",
      "0             RF_3     0.650997\n",
      "1        SVM_5_lin     0.676638\n",
      "2      SVM_0.2_lin     0.680912\n",
      "3          SVM_lin     0.682336\n",
      "4     SVM_0.2_poly     0.690883\n",
      "5          SVM_0.2     0.690883\n",
      "6            SVM_5     0.699430\n",
      "7          LGB_Cls     0.700855\n",
      "8       SVM_5_poly     0.705128\n",
      "9          SVM_rbf     0.705128\n",
      "10             SVM     0.705128\n",
      "11       XGB_310_3     0.709402\n",
      "12        XGB_31_3     0.709402\n",
      "13   RF_depth_None     0.713675\n",
      "14          XGB_31     0.719373\n",
      "15  Ensemble Model     0.725071\n",
      "16         XGB_310     0.729345\n"
     ]
    },
    {
     "name": "stderr",
     "output_type": "stream",
     "text": [
      "                                                                              \r"
     ]
    },
    {
     "name": "stdout",
     "output_type": "stream",
     "text": [
      "Parameter containing:\n",
      "tensor([[0.0000, 0.0000],\n",
      "        [0.9580, 0.9580],\n",
      "        [0.7267, 0.7267],\n",
      "        [0.7267, 0.7267],\n",
      "        [1.0718, 1.0718],\n",
      "        [1.1086, 1.1086],\n",
      "        [0.0000, 0.0000],\n",
      "        [0.0000, 0.0000],\n",
      "        [0.0000, 0.0000],\n",
      "        [0.0000, 0.0000],\n",
      "        [0.0000, 0.0000],\n",
      "        [0.0000, 0.0000],\n",
      "        [0.0000, 0.0000],\n",
      "        [0.0000, 0.0000],\n",
      "        [0.0000, 0.0000],\n",
      "        [1.0870, 1.0870]], requires_grad=True)\n"
     ]
    },
    {
     "name": "stderr",
     "output_type": "stream",
     "text": [
      "                                                                              \r"
     ]
    },
    {
     "name": "stdout",
     "output_type": "stream",
     "text": [
      "\n",
      "\n",
      "====== CV:1 ======\n",
      "             model  eval_metric\n",
      "0      SVM_0.2_lin     0.675214\n",
      "1          SVM_lin     0.680912\n",
      "2             RF_3     0.682336\n",
      "3        SVM_5_lin     0.683761\n",
      "4          SVM_0.2     0.692308\n",
      "5              SVM     0.717949\n",
      "6          SVM_rbf     0.717949\n",
      "7       SVM_5_poly     0.720798\n",
      "8          LGB_Cls     0.722222\n",
      "9     SVM_0.2_poly     0.723647\n",
      "10       XGB_310_3     0.726496\n",
      "11        XGB_31_3     0.726496\n",
      "12          XGB_31     0.732194\n",
      "13  Ensemble Model     0.733618\n",
      "14         XGB_310     0.737892\n",
      "15           SVM_5     0.740741\n",
      "16   RF_depth_None     0.740741\n"
     ]
    },
    {
     "name": "stderr",
     "output_type": "stream",
     "text": [
      "                                                                              \r"
     ]
    },
    {
     "name": "stdout",
     "output_type": "stream",
     "text": [
      "Parameter containing:\n",
      "tensor([[0.0000, 0.0000],\n",
      "        [0.9089, 0.9089],\n",
      "        [0.7449, 0.7449],\n",
      "        [0.7449, 0.7449],\n",
      "        [1.0634, 1.0634],\n",
      "        [1.1069, 1.1069],\n",
      "        [0.0000, 0.0000],\n",
      "        [0.0000, 0.0000],\n",
      "        [0.0000, 0.0000],\n",
      "        [0.0000, 0.0000],\n",
      "        [0.0000, 0.0000],\n",
      "        [0.0000, 0.0000],\n",
      "        [0.4137, 0.4137],\n",
      "        [0.0000, 0.0000],\n",
      "        [0.0000, 0.0000],\n",
      "        [1.0725, 1.0725]], requires_grad=True)\n"
     ]
    },
    {
     "name": "stderr",
     "output_type": "stream",
     "text": [
      "                                                                              \r"
     ]
    },
    {
     "name": "stdout",
     "output_type": "stream",
     "text": [
      "\n",
      "\n",
      "====== CV:2 ======\n",
      "             model  eval_metric\n",
      "0             RF_3     0.662393\n",
      "1      SVM_0.2_lin     0.662393\n",
      "2          SVM_lin     0.672365\n",
      "3        SVM_5_lin     0.679487\n",
      "4          SVM_0.2     0.690883\n",
      "5     SVM_0.2_poly     0.709402\n",
      "6           XGB_31     0.710826\n",
      "7          SVM_rbf     0.712251\n",
      "8          XGB_310     0.712251\n",
      "9              SVM     0.719373\n",
      "10      SVM_5_poly     0.723647\n",
      "11       XGB_310_3     0.726496\n",
      "12        XGB_31_3     0.726496\n",
      "13           SVM_5     0.727920\n",
      "14         LGB_Cls     0.729345\n",
      "15  Ensemble Model     0.729345\n",
      "16   RF_depth_None     0.760684\n"
     ]
    },
    {
     "name": "stderr",
     "output_type": "stream",
     "text": [
      "                                                                              \r"
     ]
    },
    {
     "name": "stdout",
     "output_type": "stream",
     "text": [
      "Parameter containing:\n",
      "tensor([[0.0000, 0.0000],\n",
      "        [1.0244, 1.0244],\n",
      "        [0.1748, 0.1748],\n",
      "        [0.1748, 0.1748],\n",
      "        [1.0513, 1.0513],\n",
      "        [1.1062, 1.1062],\n",
      "        [0.3928, 0.3928],\n",
      "        [0.0000, 0.0000],\n",
      "        [0.0738, 0.0738],\n",
      "        [0.0000, 0.0000],\n",
      "        [0.0000, 0.0000],\n",
      "        [0.0000, 0.0000],\n",
      "        [1.0181, 1.0181],\n",
      "        [0.0000, 0.0000],\n",
      "        [0.0000, 0.0000],\n",
      "        [1.0749, 1.0749]], requires_grad=True)\n"
     ]
    },
    {
     "name": "stderr",
     "output_type": "stream",
     "text": [
      "                                                                              \r"
     ]
    },
    {
     "name": "stdout",
     "output_type": "stream",
     "text": [
      "\n",
      "\n",
      "====== CV:3 ======\n",
      "             model  eval_metric\n",
      "0             RF_3     0.669516\n",
      "1     SVM_0.2_poly     0.679487\n",
      "2          SVM_0.2     0.685185\n",
      "3          SVM_rbf     0.688034\n",
      "4          XGB_310     0.692308\n",
      "5        SVM_5_lin     0.692308\n",
      "6              SVM     0.693732\n",
      "7          SVM_lin     0.695157\n",
      "8      SVM_0.2_lin     0.695157\n",
      "9           XGB_31     0.699430\n",
      "10      SVM_5_poly     0.699430\n",
      "11         LGB_Cls     0.702279\n",
      "12           SVM_5     0.702279\n",
      "13        XGB_31_3     0.705128\n",
      "14       XGB_310_3     0.705128\n",
      "15   RF_depth_None     0.722222\n",
      "16  Ensemble Model     0.727920\n"
     ]
    },
    {
     "name": "stderr",
     "output_type": "stream",
     "text": [
      "                                                                              \r"
     ]
    },
    {
     "name": "stdout",
     "output_type": "stream",
     "text": [
      "Parameter containing:\n",
      "tensor([[0.0000, 0.0000],\n",
      "        [0.8487, 0.8487],\n",
      "        [0.6074, 0.6074],\n",
      "        [0.6074, 0.6074],\n",
      "        [1.0665, 1.0665],\n",
      "        [1.1164, 1.1164],\n",
      "        [0.0000, 0.0000],\n",
      "        [0.0000, 0.0000],\n",
      "        [0.0000, 0.0000],\n",
      "        [0.0000, 0.0000],\n",
      "        [0.0000, 0.0000],\n",
      "        [0.0000, 0.0000],\n",
      "        [0.0000, 0.0000],\n",
      "        [0.0000, 0.0000],\n",
      "        [0.0000, 0.0000],\n",
      "        [1.0922, 1.0922]], requires_grad=True)\n"
     ]
    },
    {
     "name": "stderr",
     "output_type": "stream",
     "text": [
      "                                                                              \r"
     ]
    },
    {
     "name": "stdout",
     "output_type": "stream",
     "text": [
      "\n",
      "\n",
      "====== CV:4 ======\n",
      "             model  eval_metric\n",
      "0      SVM_0.2_lin     0.668091\n",
      "1          SVM_lin     0.672365\n",
      "2             RF_3     0.678063\n",
      "3        SVM_5_lin     0.685185\n",
      "4          SVM_0.2     0.692308\n",
      "5     SVM_0.2_poly     0.717949\n",
      "6              SVM     0.719373\n",
      "7          SVM_rbf     0.720798\n",
      "8        XGB_310_3     0.720798\n",
      "9         XGB_31_3     0.720798\n",
      "10         LGB_Cls     0.729345\n",
      "11         XGB_310     0.732194\n",
      "12      SVM_5_poly     0.733618\n",
      "13          XGB_31     0.737892\n",
      "14           SVM_5     0.737892\n",
      "15   RF_depth_None     0.752137\n",
      "16  Ensemble Model     0.756410\n",
      "\n",
      "====== CV Mean ======\n",
      "             model  eval_metric\n",
      "0             RF_3     0.668661\n",
      "1      SVM_0.2_lin     0.676353\n",
      "2          SVM_lin     0.680627\n",
      "3        SVM_5_lin     0.683476\n",
      "4          SVM_0.2     0.690313\n",
      "5     SVM_0.2_poly     0.704274\n",
      "6          SVM_rbf     0.708832\n",
      "7              SVM     0.711111\n",
      "8       SVM_5_poly     0.716524\n",
      "9          LGB_Cls     0.716809\n",
      "10        XGB_31_3     0.717664\n",
      "11       XGB_310_3     0.717664\n",
      "12          XGB_31     0.719943\n",
      "13         XGB_310     0.720798\n",
      "14           SVM_5     0.721652\n",
      "15  Ensemble Model     0.734473\n",
      "16   RF_depth_None     0.737892\n"
     ]
    }
   ],
   "source": [
    "# split 9:1 \n",
    "train_data, train_label, test_data, test_label = KFold_Sampler(data,label,n_splits=100).get_multi_fold_data(n_fold=10)\n",
    "print(len(train_data),len(test_data),len(test_data)/(len(train_data)+len(test_data)))\n",
    "\n",
    "# define model list\n",
    "model_lgb = lgb.LGBMClassifier(is_unbalance=True)\n",
    "\n",
    "model_dict = {'RF_3':RandomForestClassifier(n_estimators=310,max_depth=3),\n",
    "              'RF_depth_None':RandomForestClassifier(n_estimators=310),\n",
    "              'XGB_31_3':XGBClassifier(n_estimators=31,max_depth=3),\n",
    "              'XGB_310_3':XGBClassifier(n_estimators=31,max_depth=3),\n",
    "              'XGB_31':XGBClassifier(n_estimators=31),\n",
    "              'XGB_310':XGBClassifier(n_estimators=310),\n",
    "              'SVM':SVC(probability=True),\n",
    "              'SVM_lin':SVC(kernel='linear',probability=True),\n",
    "              'SVM_rbf':SVC(kernel='rbf',probability=True),\n",
    "              'SVM_0.2':SVC(C=0.2,probability=True),\n",
    "              'SVM_0.2_lin':SVC(C=0.2,kernel='linear',probability=True),\n",
    "              'SVM_0.2_poly':SVC(C=0.2,kernel='poly',probability=True),\n",
    "              'SVM_5':SVC(C=5,probability=True),\n",
    "              'SVM_5_lin':SVC(C=5,kernel='linear',probability=True),\n",
    "              'SVM_5_poly':SVC(C=5,kernel='poly',probability=True),\n",
    "              # 'KNN_Cls':KNeighborsClassifier(),\n",
    "              'LGB_Cls':model_lgb,\n",
    "              # 'Ridge_Cls':RidgeClassifier(),\n",
    "              # 'MLP_Cls':MLPClassifier(activation = \"relu\", alpha = 0.001, hidden_layer_sizes = (56,10),\n",
    "              #               learning_rate = \"constant\", max_iter = 3000, random_state = 3000,early_stopping=True),\n",
    "              # 'QDA':QuadraticDiscriminantAnalysis(),\n",
    "              }\n",
    "#stack_model=MLPClassifier(activation = \"relu\", alpha = 0.0001,validation_fraction=0.1, hidden_layer_sizes = (38),learning_rate = \"constant\", max_iter = 3000, random_state = 1000,early_stopping=True)\n",
    "# stack_model=SVC(C=1,kernel='linear', probability=True)\n",
    "#stack_model = DecisionTreeClassifier()\n",
    "model = Stack_Ensemble_Proba_Model(copy.deepcopy(model_dict),stack_model=ML_Weighted_Model(len(list(model_dict.keys())),2,\n",
    "                                                                                                     model_reg=0.00,\n",
    "                                                                                                     classes_reg=0.00,\n",
    "                                                                                                     l1_norm=0.00),stack_training_split=0.2)\n",
    "# model = Mean_Ensemble_Proba_Model(copy.deepcopy(model_dict))\n",
    "cv_model, cv_df = model.cross_validation_evaluate(train_data, train_label, accuracy_score,n_splits=5)"
   ]
  },
  {
   "cell_type": "code",
   "execution_count": 4,
   "metadata": {},
   "outputs": [
    {
     "data": {
      "text/plain": [
       "array([0.        , 0.94668484, 0.45075756, 0.45075756, 1.0590093 ,\n",
       "       1.1114562 , 0.07856727, 0.        , 0.01475257, 0.        ,\n",
       "       0.        , 0.        , 0.466189  , 0.        , 0.        ,\n",
       "       1.0844471 ], dtype=float32)"
      ]
     },
     "metadata": {},
     "output_type": "display_data"
    },
    {
     "data": {
      "text/plain": [
       "['RF_3',\n",
       " 'RF_depth_None',\n",
       " 'XGB_31_3',\n",
       " 'XGB_310_3',\n",
       " 'XGB_31',\n",
       " 'XGB_310',\n",
       " 'SVM',\n",
       " 'SVM_lin',\n",
       " 'SVM_rbf',\n",
       " 'SVM_0.2',\n",
       " 'SVM_0.2_lin',\n",
       " 'SVM_0.2_poly',\n",
       " 'SVM_5',\n",
       " 'SVM_5_lin',\n",
       " 'SVM_5_poly',\n",
       " 'LGB_Cls']"
      ]
     },
     "metadata": {},
     "output_type": "display_data"
    },
    {
     "data": {
      "text/plain": [
       "array([[0.  , 0.  ],\n",
       "       [0.95, 0.95],\n",
       "       [0.45, 0.45],\n",
       "       [0.45, 0.45],\n",
       "       [1.06, 1.06],\n",
       "       [1.11, 1.11],\n",
       "       [0.08, 0.08],\n",
       "       [0.  , 0.  ],\n",
       "       [0.01, 0.01],\n",
       "       [0.  , 0.  ],\n",
       "       [0.  , 0.  ],\n",
       "       [0.  , 0.  ],\n",
       "       [0.47, 0.47],\n",
       "       [0.  , 0.  ],\n",
       "       [0.  , 0.  ],\n",
       "       [1.08, 1.08]], dtype=float32)"
      ]
     },
     "metadata": {},
     "output_type": "display_data"
    },
    {
     "data": {
      "image/png": "[encoded data removed]",
      "text/plain": [
       "<Figure size 640x480 with 1 Axes>"
      ]
     },
     "metadata": {},
     "output_type": "display_data"
    }
   ],
   "source": [
    "weights = cv_model[0].stack_model.weights.data.detach().numpy()\n",
    "for i in range(1,len(cv_model)):\n",
    "  weights = np.add(cv_model[i].stack_model.weights.data.detach().numpy(),weights)\n",
    "\n",
    "weights = weights/len(cv_model)\n",
    "importance = np.array(weights.mean(axis=1))\n",
    "model_name = list(model_dict.keys())\n",
    "display(importance,model_name)\n",
    "display(np.round(weights,decimals=2))\n",
    "zipped = list(zip(model_name,importance))\n",
    "sorted_zipped = sorted(zipped, key=lambda x: x[1])[::-1]\n",
    "model_name, importance = zip(*sorted_zipped)\n",
    "importance = np.array(importance)\n",
    "sns.barplot(y=list(model_name),x=importance)\n",
    "plt.show()"
   ]
  },
  {
   "cell_type": "code",
   "execution_count": null,
   "metadata": {},
   "outputs": [],
   "source": [
    "stack_model = ML_Weighted_Model(5,2,epoch=10000,init_mode='rand',l1_norm=0)"
   ]
  },
  {
   "cell_type": "code",
   "execution_count": null,
   "metadata": {},
   "outputs": [],
   "source": [
    "\n",
    "#stack_model = DecisionTreeClassifier()\n",
    "cv_ensemble_model = Stack_Ensemble_Proba_Model(model_dict=cv_model, stack_model=copy.deepcopy(stack_model), stack_training_split=0.3)\n",
    "# cv_ensemble_model = Mean_Ensemble_Proba_Model(cv_model)\n",
    "cv_ensemble_model.fit(train_data,train_label)\n",
    "# # cv_ensemble_model.fit(train_data,train_label)\n",
    "# print('========== Ensemble Model ==========')\n",
    "# _=model.evaluate(test_data,test_label,evaluation_fn=accuracy_score,verbose=True)\n",
    "print('========== CV Ensemble Model ==========')\n",
    "_=cv_ensemble_model.evaluate(test_data,test_label,evaluation_fn=accuracy_score,verbose=True)"
   ]
  },
  {
   "cell_type": "code",
   "execution_count": null,
   "metadata": {},
   "outputs": [],
   "source": [
    "cv_ensemble_model.evaluate(train_data,train_label,accuracy_score)"
   ]
  },
  {
   "cell_type": "code",
   "execution_count": null,
   "metadata": {},
   "outputs": [],
   "source": [
    "test_data = test_df.values[:,1:]\n",
    "test_data = qt.transform(test_data)\n",
    "test_pred = model.predict(test_data)\n",
    "test_pred"
   ]
  },
  {
   "cell_type": "code",
   "execution_count": null,
   "metadata": {},
   "outputs": [],
   "source": [
    "import torch"
   ]
  },
  {
   "cell_type": "code",
   "execution_count": null,
   "metadata": {},
   "outputs": [],
   "source": []
  }
 ],
 "metadata": {
  "kernelspec": {
   "display_name": "torch",
   "language": "python",
   "name": "python3"
  },
  "language_info": {
   "codemirror_mode": {
    "name": "ipython",
    "version": 3
   },
   "file_extension": ".py",
   "mimetype": "text/x-python",
   "name": "python",
   "nbconvert_exporter": "python",
   "pygments_lexer": "ipython3",
   "version": "3.8.15"
  },
  "orig_nbformat": 4
 },
 "nbformat": 4,
 "nbformat_minor": 2
}
