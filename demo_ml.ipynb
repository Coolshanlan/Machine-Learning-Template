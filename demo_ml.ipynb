{
 "cells": [
  {
   "cell_type": "code",
   "execution_count": 25,
   "metadata": {},
   "outputs": [],
   "source": [
    "import pandas as pd\n",
    "import numpy as np\n",
    "from sklearn.ensemble import RandomForestClassifier\n",
    "from sklearn.preprocessing import QuantileTransformer\n",
    "from sklearn.metrics import accuracy_score\n",
    "from sklearn.model_selection import StratifiedKFold, RepeatedStratifiedKFold\n",
    "from imblearn.combine import SMOTEENN\n",
    "import sys\n",
    "from efficient.ml_model import *\n",
    "from efficient.utils import *\n",
    "from efficient.eval_utils import *\n",
    "\n",
    "data_df = pd.read_excel('data/train.xlsx')\n",
    "test_df = pd.read_excel('data/test.xlsx')\n",
    "submission_df = pd.read_csv('data/submission.csv')"
   ]
  },
  {
   "cell_type": "code",
   "execution_count": 26,
   "metadata": {},
   "outputs": [],
   "source": [
    "data = data_df.values[:,:-1]\n",
    "label=data_df.values[:,-1]\n",
    "qt = QuantileTransformer(n_quantiles=100)\n",
    "data = qt.fit_transform(data)"
   ]
  },
  {
   "cell_type": "code",
   "execution_count": 29,
   "metadata": {},
   "outputs": [
    {
     "name": "stdout",
     "output_type": "stream",
     "text": [
      "3510 393 0.10069177555726365\n"
     ]
    },
    {
     "name": "stderr",
     "output_type": "stream",
     "text": [
      "                                                                            \r"
     ]
    },
    {
     "name": "stdout",
     "output_type": "stream",
     "text": [
      "\n",
      "\n",
      "====== CV:0 ======\n",
      "            model  eval_metric\n",
      "0            RF_3     0.645299\n",
      "1  Ensemble Model     0.693732\n"
     ]
    },
    {
     "name": "stderr",
     "output_type": "stream",
     "text": [
      "                                                                            \r"
     ]
    },
    {
     "name": "stdout",
     "output_type": "stream",
     "text": [
      "\n",
      "\n",
      "====== CV:1 ======\n",
      "            model  eval_metric\n",
      "0  Ensemble Model     0.668091\n",
      "1            RF_3     0.679487\n"
     ]
    },
    {
     "name": "stderr",
     "output_type": "stream",
     "text": [
      "                                                                            \r"
     ]
    },
    {
     "name": "stdout",
     "output_type": "stream",
     "text": [
      "\n",
      "\n",
      "====== CV:2 ======\n",
      "            model  eval_metric\n",
      "0            RF_3     0.668091\n",
      "1  Ensemble Model     0.695157\n"
     ]
    },
    {
     "name": "stderr",
     "output_type": "stream",
     "text": [
      "                                                                            \r"
     ]
    },
    {
     "name": "stdout",
     "output_type": "stream",
     "text": [
      "\n",
      "\n",
      "====== CV:3 ======\n",
      "            model  eval_metric\n",
      "0            RF_3     0.648148\n",
      "1  Ensemble Model     0.672365\n"
     ]
    },
    {
     "name": "stderr",
     "output_type": "stream",
     "text": [
      "                                                                            "
     ]
    },
    {
     "name": "stdout",
     "output_type": "stream",
     "text": [
      "\n",
      "\n",
      "====== CV:4 ======\n",
      "            model  eval_metric\n",
      "0            RF_3     0.690883\n",
      "1  Ensemble Model     0.720798\n",
      "\n",
      "====== CV Mean ======\n",
      "            model  eval_metric\n",
      "0            RF_3     0.666382\n",
      "1  Ensemble Model     0.690028\n"
     ]
    },
    {
     "name": "stderr",
     "output_type": "stream",
     "text": [
      "\r"
     ]
    }
   ],
   "source": [
    "# split 9:1 \n",
    "train_data, train_label, test_data, test_label = KFold_Sampler(data,label,n_splits=100).get_multi_fold_data(n_fold=10)\n",
    "print(len(train_data),len(test_data),len(test_data)/(len(train_data)+len(test_data)))\n",
    "\n",
    "# define model list\n",
    "model_lgb = lgb.LGBMClassifier(is_unbalance=True)\n",
    "\n",
    "model_dict = {'RF_3':RandomForestClassifier(n_estimators=310,max_depth=3),\n",
    "              'RF_depth_None':RandomForestClassifier(n_estimators=310),\n",
    "              'XGB_31_3':XGBClassifier(n_estimators=31,max_depth=3),\n",
    "              'XGB_310_3':XGBClassifier(n_estimators=31,max_depth=3),\n",
    "              'XGB_31':XGBClassifier(n_estimators=31),\n",
    "              'XGB_310':XGBClassifier(n_estimators=310),\n",
    "              'SVM':SVC(probability=True),\n",
    "              'SVM_lin':SVC(kernel='linear',probability=True),\n",
    "              'SVM_rbf':SVC(kernel='rbf',probability=True),\n",
    "              'SVM_0.2':SVC(C=0.2,probability=True),\n",
    "              'SVM_0.2_lin':SVC(C=0.2,kernel='linear',probability=True),\n",
    "              'SVM_0.2_poly':SVC(C=0.2,kernel='poly',probability=True),\n",
    "              'SVM_5':SVC(C=5,probability=True),\n",
    "              'SVM_5_lin':SVC(C=5,kernel='linear',probability=True),\n",
    "              'SVM_5_poly':SVC(C=5,kernel='poly',probability=True),\n",
    "              'KNN_Cls':KNeighborsClassifier(),\n",
    "              'LGB_Cls':model_lgb,\n",
    "              'Ridge_Cls':RidgeClassifier(),\n",
    "              'MLP_Cls':MLPClassifier(activation = \"relu\", alpha = 0.1, hidden_layer_sizes = (5,5),\n",
    "                            learning_rate = \"constant\", max_iter = 3000, random_state = 1000),\n",
    "              'QDA':QuadraticDiscriminantAnalysis(),\n",
    "              }\n",
    "\n",
    "model = Stack_Ensemble_Proba_Model(model_dict=model_dict, stack_model=SVC(C=0.1,kernel='rbf', probability=True), stack_training_split=0.15)\n",
    "# model = Mean_Ensemble_Model(copy.deepcopy(model_lgb))\n",
    "cv_model, cv_df = model.cross_validation_evaluate(train_data, train_label, accuracy_score,n_splits=5)"
   ]
  },
  {
   "cell_type": "code",
   "execution_count": 30,
   "metadata": {},
   "outputs": [
    {
     "name": "stderr",
     "output_type": "stream",
     "text": [
      "                                                                            "
     ]
    },
    {
     "name": "stdout",
     "output_type": "stream",
     "text": [
      "========== Ensemble Model ==========\n",
      "            model  eval_metric\n",
      "0            RF_3     0.676845\n",
      "1  Ensemble Model     0.689567\n",
      "========== CV Ensemble Model ==========\n",
      "            model  eval_metric\n",
      "0         model_2     0.669211\n",
      "1         model_4     0.676845\n",
      "2         model_5     0.676845\n",
      "3  Ensemble Model     0.676845\n",
      "4         model_3     0.679389\n",
      "5         model_1     0.684478\n"
     ]
    },
    {
     "name": "stderr",
     "output_type": "stream",
     "text": [
      "\r"
     ]
    }
   ],
   "source": [
    "cv_ensemble_model = Mean_Ensemble_Proba_Model(cv_model)\n",
    "model.fit(train_data,train_label)\n",
    "cv_ensemble_model.fit(train_data,train_label)\n",
    "print('========== Ensemble Model ==========')\n",
    "_=model.evaluate(test_data,test_label,evaluation_fn=accuracy_score,verbose=True)\n",
    "print('========== CV Ensemble Model ==========')\n",
    "_=cv_ensemble_model.evaluate(test_data,test_label,evaluation_fn=accuracy_score,verbose=True)"
   ]
  },
  {
   "cell_type": "code",
   "execution_count": 23,
   "metadata": {},
   "outputs": [
    {
     "data": {
      "text/plain": [
       "array([0., 0., 0., ..., 0., 0., 0.])"
      ]
     },
     "execution_count": 23,
     "metadata": {},
     "output_type": "execute_result"
    }
   ],
   "source": [
    "test_data = test_df.values[:,1:]\n",
    "test_data = qt.transform(test_data)\n",
    "test_pred = model.predict(test_data)\n",
    "test_pred"
   ]
  },
  {
   "cell_type": "code",
   "execution_count": null,
   "metadata": {},
   "outputs": [],
   "source": []
  }
 ],
 "metadata": {
  "kernelspec": {
   "display_name": "torch",
   "language": "python",
   "name": "python3"
  },
  "language_info": {
   "codemirror_mode": {
    "name": "ipython",
    "version": 3
   },
   "file_extension": ".py",
   "mimetype": "text/x-python",
   "name": "python",
   "nbconvert_exporter": "python",
   "pygments_lexer": "ipython3",
   "version": "3.8.15"
  },
  "orig_nbformat": 4
 },
 "nbformat": 4,
 "nbformat_minor": 2
}
