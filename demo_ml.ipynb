{
 "cells": [
  {
   "cell_type": "code",
   "execution_count": 1,
   "metadata": {},
   "outputs": [],
   "source": [
    "import pandas as pd\n",
    "import numpy as np\n",
    "from sklearn.ensemble import RandomForestClassifier\n",
    "from sklearn.preprocessing import QuantileTransformer\n",
    "from sklearn.metrics import accuracy_score\n",
    "from sklearn.model_selection import StratifiedKFold, RepeatedStratifiedKFold\n",
    "from imblearn.combine import SMOTEENN\n",
    "import sys\n",
    "sys.path.append('/home/coolshan/Project/Efficient-Pytorch-Template')\n",
    "from efficient.ml_model import *\n",
    "from efficient.utils import *\n",
    "from efficient.eval_utils import *\n",
    "\n",
    "data_df = pd.read_excel('data/train.xlsx')\n",
    "test_df = pd.read_excel('data/test.xlsx')\n",
    "submission_df = pd.read_csv('data/submission.csv')"
   ]
  },
  {
   "cell_type": "code",
   "execution_count": 2,
   "metadata": {},
   "outputs": [],
   "source": [
    "data = data_df.values[:,:-1]\n",
    "label=data_df.values[:,-1]\n",
    "qt = QuantileTransformer(n_quantiles=100)\n",
    "data = qt.fit_transform(data)"
   ]
  },
  {
   "cell_type": "code",
   "execution_count": 3,
   "metadata": {},
   "outputs": [
    {
     "name": "stdout",
     "output_type": "stream",
     "text": [
      "3510 393 0.10069177555726365\n"
     ]
    },
    {
     "name": "stderr",
     "output_type": "stream",
     "text": [
      "                                                                              \r"
     ]
    },
    {
     "name": "stdout",
     "output_type": "stream",
     "text": [
      "\n",
      "\n",
      "====== CV:0 ======\n",
      "             model  eval_metric\n",
      "0             RF_3     0.675214\n",
      "1          SVM_lin     0.680912\n",
      "2      SVM_0.2_lin     0.683761\n",
      "3        SVM_5_lin     0.688034\n",
      "4          SVM_0.2     0.702279\n",
      "5          LGB_Cls     0.703704\n",
      "6           XGB_31     0.710826\n",
      "7       SVM_5_poly     0.710826\n",
      "8    RF_depth_None     0.713675\n",
      "9          XGB_310     0.713675\n",
      "10        XGB_31_3     0.719373\n",
      "11       XGB_310_3     0.719373\n",
      "12    SVM_0.2_poly     0.720798\n",
      "13  Ensemble Model     0.727920\n",
      "14             SVM     0.729345\n",
      "15         SVM_rbf     0.732194\n",
      "16           SVM_5     0.739316\n"
     ]
    },
    {
     "name": "stderr",
     "output_type": "stream",
     "text": [
      "                                                                              \r"
     ]
    },
    {
     "name": "stdout",
     "output_type": "stream",
     "text": [
      "\n",
      "\n",
      "====== CV:1 ======\n",
      "             model  eval_metric\n",
      "0             RF_3     0.682336\n",
      "1        SVM_5_lin     0.682336\n",
      "2      SVM_0.2_lin     0.683761\n",
      "3          SVM_0.2     0.683761\n",
      "4            SVM_5     0.688034\n",
      "5       SVM_5_poly     0.689459\n",
      "6          SVM_lin     0.689459\n",
      "7     SVM_0.2_poly     0.693732\n",
      "8          LGB_Cls     0.693732\n",
      "9          SVM_rbf     0.695157\n",
      "10         XGB_310     0.699430\n",
      "11          XGB_31     0.699430\n",
      "12       XGB_310_3     0.699430\n",
      "13        XGB_31_3     0.699430\n",
      "14             SVM     0.699430\n",
      "15  Ensemble Model     0.717949\n",
      "16   RF_depth_None     0.725071\n"
     ]
    },
    {
     "name": "stderr",
     "output_type": "stream",
     "text": [
      "                                                                              \r"
     ]
    },
    {
     "name": "stdout",
     "output_type": "stream",
     "text": [
      "\n",
      "\n",
      "====== CV:2 ======\n",
      "             model  eval_metric\n",
      "0      SVM_0.2_lin     0.655271\n",
      "1          SVM_lin     0.665242\n",
      "2          SVM_0.2     0.668091\n",
      "3             RF_3     0.669516\n",
      "4        SVM_5_lin     0.669516\n",
      "5          LGB_Cls     0.679487\n",
      "6         XGB_31_3     0.682336\n",
      "7        XGB_310_3     0.682336\n",
      "8       SVM_5_poly     0.688034\n",
      "9          XGB_310     0.690883\n",
      "10   RF_depth_None     0.692308\n",
      "11         SVM_rbf     0.693732\n",
      "12             SVM     0.693732\n",
      "13          XGB_31     0.698006\n",
      "14  Ensemble Model     0.698006\n",
      "15           SVM_5     0.702279\n",
      "16    SVM_0.2_poly     0.706553\n"
     ]
    },
    {
     "name": "stderr",
     "output_type": "stream",
     "text": [
      "                                                                              \r"
     ]
    },
    {
     "name": "stdout",
     "output_type": "stream",
     "text": [
      "\n",
      "\n",
      "====== CV:3 ======\n",
      "             model  eval_metric\n",
      "0          LGB_Cls     0.670940\n",
      "1             RF_3     0.672365\n",
      "2          SVM_lin     0.676638\n",
      "3        SVM_5_lin     0.678063\n",
      "4      SVM_0.2_lin     0.678063\n",
      "5         XGB_31_3     0.680912\n",
      "6        XGB_310_3     0.680912\n",
      "7          SVM_0.2     0.680912\n",
      "8           XGB_31     0.695157\n",
      "9     SVM_0.2_poly     0.695157\n",
      "10      SVM_5_poly     0.696581\n",
      "11         XGB_310     0.698006\n",
      "12         SVM_rbf     0.705128\n",
      "13             SVM     0.707977\n",
      "14   RF_depth_None     0.707977\n",
      "15           SVM_5     0.716524\n",
      "16  Ensemble Model     0.717949\n"
     ]
    },
    {
     "name": "stderr",
     "output_type": "stream",
     "text": [
      "                                                                              \r"
     ]
    },
    {
     "name": "stdout",
     "output_type": "stream",
     "text": [
      "\n",
      "\n",
      "====== CV:4 ======\n",
      "             model  eval_metric\n",
      "0             RF_3     0.676638\n",
      "1          SVM_0.2     0.682336\n",
      "2      SVM_0.2_lin     0.686610\n",
      "3              SVM     0.696581\n",
      "4          SVM_lin     0.698006\n",
      "5          SVM_rbf     0.698006\n",
      "6        SVM_5_lin     0.702279\n",
      "7            SVM_5     0.706553\n",
      "8          LGB_Cls     0.709402\n",
      "9        XGB_310_3     0.715100\n",
      "10        XGB_31_3     0.715100\n",
      "11    SVM_0.2_poly     0.715100\n",
      "12      SVM_5_poly     0.715100\n",
      "13          XGB_31     0.723647\n",
      "14         XGB_310     0.730769\n",
      "15  Ensemble Model     0.733618\n",
      "16   RF_depth_None     0.743590\n",
      "\n",
      "====== CV Mean ======\n",
      "             model  eval_metric\n",
      "0             RF_3     0.675214\n",
      "1      SVM_0.2_lin     0.677493\n",
      "2          SVM_lin     0.682051\n",
      "3          SVM_0.2     0.683476\n",
      "4        SVM_5_lin     0.684046\n",
      "5          LGB_Cls     0.691453\n",
      "6         XGB_31_3     0.699430\n",
      "7        XGB_310_3     0.699430\n",
      "8       SVM_5_poly     0.700000\n",
      "9          SVM_rbf     0.704843\n",
      "10             SVM     0.705413\n",
      "11          XGB_31     0.705413\n",
      "12    SVM_0.2_poly     0.706268\n",
      "13         XGB_310     0.706553\n",
      "14           SVM_5     0.710541\n",
      "15   RF_depth_None     0.716524\n",
      "16  Ensemble Model     0.719088\n"
     ]
    }
   ],
   "source": [
    "# split 9:1 \n",
    "train_data, train_label, test_data, test_label = KFold_Sampler(data,label,n_splits=100).get_multi_fold_data(n_fold=10)\n",
    "print(len(train_data),len(test_data),len(test_data)/(len(train_data)+len(test_data)))\n",
    "\n",
    "# define model list\n",
    "model_lgb = lgb.LGBMClassifier(is_unbalance=True)\n",
    "\n",
    "model_dict = {'RF_3':RandomForestClassifier(n_estimators=310,max_depth=3),\n",
    "              'RF_depth_None':RandomForestClassifier(n_estimators=310),\n",
    "              'XGB_31_3':XGBClassifier(n_estimators=31,max_depth=3),\n",
    "              'XGB_310_3':XGBClassifier(n_estimators=31,max_depth=3),\n",
    "              'XGB_31':XGBClassifier(n_estimators=31),\n",
    "              'XGB_310':XGBClassifier(n_estimators=310),\n",
    "              'SVM':SVC(probability=True),\n",
    "              'SVM_lin':SVC(kernel='linear',probability=True),\n",
    "              'SVM_rbf':SVC(kernel='rbf',probability=True),\n",
    "              'SVM_0.2':SVC(C=0.2,probability=True),\n",
    "              'SVM_0.2_lin':SVC(C=0.2,kernel='linear',probability=True),\n",
    "              'SVM_0.2_poly':SVC(C=0.2,kernel='poly',probability=True),\n",
    "              'SVM_5':SVC(C=5,probability=True),\n",
    "              'SVM_5_lin':SVC(C=5,kernel='linear',probability=True),\n",
    "              'SVM_5_poly':SVC(C=5,kernel='poly',probability=True),\n",
    "              # 'KNN_Cls':KNeighborsClassifier(),\n",
    "              'LGB_Cls':model_lgb,\n",
    "              # 'Ridge_Cls':RidgeClassifier(),\n",
    "              # 'MLP_Cls':MLPClassifier(activation = \"relu\", alpha = 0.001, hidden_layer_sizes = (56,10),\n",
    "              #               learning_rate = \"constant\", max_iter = 3000, random_state = 3000,early_stopping=True),\n",
    "              # 'QDA':QuadraticDiscriminantAnalysis(),\n",
    "              }\n",
    "#stack_model=MLPClassifier(activation = \"relu\", alpha = 0.0001,validation_fraction=0.1, hidden_layer_sizes = (38),learning_rate = \"constant\", max_iter = 3000, random_state = 1000,early_stopping=True)\n",
    "# stack_model=SVC(C=1,kernel='linear', probability=True)\n",
    "stack_model = ML_Weighted_Model(len(model_dict),2,lr=5e-4,epoch=1000,init_mode='rand')\n",
    "#stack_model = DecisionTreeClassifier()\n",
    "model = Stack_Ensemble_Proba_Model(model_dict=model_dict, stack_model=copy.deepcopy(stack_model), stack_training_split=0.5)\n",
    "# model = Mean_Ensemble_Proba_Model(copy.deepcopy(model_dict))\n",
    "cv_model, cv_df = model.cross_validation_evaluate(train_data, train_label, accuracy_score,n_splits=5)"
   ]
  },
  {
   "cell_type": "code",
   "execution_count": 4,
   "metadata": {},
   "outputs": [
    {
     "data": {
      "text/plain": [
       "array([0.43456507, 1.1607339 , 1.4977169 , 1.6781008 , 1.2859726 ,\n",
       "       1.3690934 , 0.4346665 , 0.44192412, 0.10168947, 0.5299678 ,\n",
       "       0.5670927 , 0.7986287 , 0.89054555, 0.29725587, 0.7846541 ,\n",
       "       1.2726593 ], dtype=float32)"
      ]
     },
     "metadata": {},
     "output_type": "display_data"
    },
    {
     "data": {
      "text/plain": [
       "['RF_3',\n",
       " 'RF_depth_None',\n",
       " 'XGB_31_3',\n",
       " 'XGB_310_3',\n",
       " 'XGB_31',\n",
       " 'XGB_310',\n",
       " 'SVM',\n",
       " 'SVM_lin',\n",
       " 'SVM_rbf',\n",
       " 'SVM_0.2',\n",
       " 'SVM_0.2_lin',\n",
       " 'SVM_0.2_poly',\n",
       " 'SVM_5',\n",
       " 'SVM_5_lin',\n",
       " 'SVM_5_poly',\n",
       " 'LGB_Cls']"
      ]
     },
     "metadata": {},
     "output_type": "display_data"
    },
    {
     "data": {
      "text/plain": [
       "array([[0.17, 0.7 ],\n",
       "       [1.44, 0.88],\n",
       "       [1.55, 1.45],\n",
       "       [1.69, 1.67],\n",
       "       [1.23, 1.34],\n",
       "       [1.27, 1.47],\n",
       "       [0.52, 0.35],\n",
       "       [0.84, 0.05],\n",
       "       [0.01, 0.19],\n",
       "       [0.37, 0.69],\n",
       "       [0.25, 0.88],\n",
       "       [0.84, 0.75],\n",
       "       [0.76, 1.02],\n",
       "       [0.01, 0.58],\n",
       "       [0.72, 0.85],\n",
       "       [1.32, 1.23]], dtype=float32)"
      ]
     },
     "metadata": {},
     "output_type": "display_data"
    },
    {
     "data": {
      "image/png": "[encoded data removed]",
      "text/plain": [
       "<Figure size 640x480 with 1 Axes>"
      ]
     },
     "metadata": {},
     "output_type": "display_data"
    }
   ],
   "source": [
    "weights = cv_model[0].stack_model.weights.data.detach().numpy()\n",
    "for i in range(1,len(cv_model)):\n",
    "  weights = np.add(cv_model[i].stack_model.weights.data.detach().numpy(),weights)\n",
    "\n",
    "weights = weights/len(cv_model)\n",
    "importance = np.array(weights.mean(axis=1))\n",
    "model_name = list(model_dict.keys())\n",
    "display(importance,model_name)\n",
    "display(np.round(weights,decimals=2))\n",
    "zipped = list(zip(model_name,importance))\n",
    "sorted_zipped = sorted(zipped, key=lambda x: x[1])[::-1]\n",
    "model_name, importance = zip(*sorted_zipped)\n",
    "importance = np.array(importance)\n",
    "sns.barplot(y=list(model_name),x=importance)\n",
    "plt.show()"
   ]
  },
  {
   "cell_type": "code",
   "execution_count": 5,
   "metadata": {},
   "outputs": [
    {
     "data": {
      "text/plain": [
       "Parameter containing:\n",
       "tensor([[0.7161, 1.2478],\n",
       "        [1.2008, 0.5445],\n",
       "        [1.3222, 1.1157],\n",
       "        [1.4600, 1.3406],\n",
       "        [0.7732, 0.8726],\n",
       "        [0.7848, 0.9823],\n",
       "        [1.1876, 1.0581],\n",
       "        [1.4001, 0.6050],\n",
       "        [0.6562, 0.9027],\n",
       "        [0.9425, 1.2592],\n",
       "        [0.8108, 1.4432],\n",
       "        [1.4380, 1.3487],\n",
       "        [1.2685, 1.2695],\n",
       "        [0.5771, 1.1420],\n",
       "        [1.3159, 1.4561],\n",
       "        [0.8496, 0.7529]], requires_grad=True)"
      ]
     },
     "execution_count": 5,
     "metadata": {},
     "output_type": "execute_result"
    }
   ],
   "source": [
    "stack_model.weights"
   ]
  },
  {
   "cell_type": "code",
   "execution_count": 17,
   "metadata": {},
   "outputs": [
    {
     "name": "stdout",
     "output_type": "stream",
     "text": [
      "========== CV Ensemble Model ==========\n",
      "            model  eval_metric\n",
      "0         model_4     0.699746\n",
      "1         model_1     0.702290\n",
      "2         model_2     0.715013\n",
      "3         model_5     0.727735\n",
      "4         model_3     0.732824\n",
      "5  Ensemble Model     0.743003\n"
     ]
    }
   ],
   "source": [
    "stack_model = ML_Weighted_Model(5,2,epoch=100,init_mode='rand')\n",
    "#stack_model = DecisionTreeClassifier()\n",
    "cv_ensemble_model = Stack_Ensemble_Proba_Model(model_dict=cv_model, stack_model=copy.deepcopy(stack_model), stack_training_split=0.15)\n",
    "# cv_ensemble_model = Mean_Ensemble_Proba_Model(cv_model)\n",
    "# model.fit(train_data,train_label)\n",
    "# # cv_ensemble_model.fit(train_data,train_label)\n",
    "# print('========== Ensemble Model ==========')\n",
    "# _=model.evaluate(test_data,test_label,evaluation_fn=accuracy_score,verbose=True)\n",
    "print('========== CV Ensemble Model ==========')\n",
    "_=cv_ensemble_model.evaluate(test_data,test_label,evaluation_fn=accuracy_score,verbose=True)"
   ]
  },
  {
   "cell_type": "code",
   "execution_count": 25,
   "metadata": {},
   "outputs": [
    {
     "data": {
      "text/plain": [
       "Parameter containing:\n",
       "tensor([[0.5523, 0.5588],\n",
       "        [0.1769, 0.4497],\n",
       "        [0.6498, 0.3951],\n",
       "        [0.6170, 0.9557],\n",
       "        [0.4138, 0.6248]], requires_grad=True)"
      ]
     },
     "execution_count": 25,
     "metadata": {},
     "output_type": "execute_result"
    }
   ],
   "source": [
    "stack_model.weights"
   ]
  },
  {
   "cell_type": "code",
   "execution_count": 5,
   "metadata": {},
   "outputs": [
    {
     "data": {
      "text/plain": [
       "array([0., 0., 0., ..., 1., 0., 0.])"
      ]
     },
     "execution_count": 5,
     "metadata": {},
     "output_type": "execute_result"
    }
   ],
   "source": [
    "test_data = test_df.values[:,1:]\n",
    "test_data = qt.transform(test_data)\n",
    "test_pred = model.predict(test_data)\n",
    "test_pred"
   ]
  },
  {
   "cell_type": "code",
   "execution_count": 6,
   "metadata": {},
   "outputs": [],
   "source": [
    "import torch"
   ]
  },
  {
   "cell_type": "code",
   "execution_count": null,
   "metadata": {},
   "outputs": [],
   "source": []
  }
 ],
 "metadata": {
  "kernelspec": {
   "display_name": "torch",
   "language": "python",
   "name": "python3"
  },
  "language_info": {
   "codemirror_mode": {
    "name": "ipython",
    "version": 3
   },
   "file_extension": ".py",
   "mimetype": "text/x-python",
   "name": "python",
   "nbconvert_exporter": "python",
   "pygments_lexer": "ipython3",
   "version": "3.8.15"
  },
  "orig_nbformat": 4
 },
 "nbformat": 4,
 "nbformat_minor": 2
}
