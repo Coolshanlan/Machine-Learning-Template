{
 "cells": [
  {
   "cell_type": "code",
   "execution_count": 1,
   "metadata": {},
   "outputs": [],
   "source": [
    "import pandas as pd\n",
    "import numpy as np\n",
    "from sklearn.ensemble import RandomForestClassifier\n",
    "from sklearn.preprocessing import QuantileTransformer\n",
    "from sklearn.metrics import accuracy_score\n",
    "from sklearn.model_selection import StratifiedKFold, RepeatedStratifiedKFold\n",
    "from imblearn.combine import SMOTEENN\n",
    "import sys\n",
    "from ml_template.utils import *\n",
    "from ml_template.model.ml_model import *\n",
    "data_df = pd.read_csv('data/train.csv',sep='\\t',header=None)\n",
    "test_df = pd.read_csv('data/test.csv',sep='\\t',header=None)"
   ]
  },
  {
   "cell_type": "code",
   "execution_count": 2,
   "metadata": {},
   "outputs": [],
   "source": [
    "data = data_df.values[:,:-1]\n",
    "label=(data_df.values[:,-1]+1)//2\n",
    "qt = QuantileTransformer(n_quantiles=10)\n",
    "data = qt.fit_transform(data)"
   ]
  },
  {
   "cell_type": "code",
   "execution_count": 3,
   "metadata": {},
   "outputs": [
    {
     "name": "stdout",
     "output_type": "stream",
     "text": [
      "90 10 0.1\n"
     ]
    },
    {
     "name": "stderr",
     "output_type": "stream",
     "text": [
      "                                                                            \r"
     ]
    },
    {
     "name": "stdout",
     "output_type": "stream",
     "text": [
      "Parameter containing:\n",
      "tensor([[0.0000],\n",
      "        [0.0000],\n",
      "        [0.0000],\n",
      "        [0.0000],\n",
      "        [0.0000],\n",
      "        [0.0000],\n",
      "        [0.0000],\n",
      "        [0.0000],\n",
      "        [0.0000],\n",
      "        [1.0769],\n",
      "        [1.0769],\n",
      "        [0.1621],\n",
      "        [0.0000],\n",
      "        [1.0408],\n",
      "        [0.1621],\n",
      "        [1.1012]], requires_grad=True)\n"
     ]
    },
    {
     "name": "stderr",
     "output_type": "stream",
     "text": [
      "                                                                            \r"
     ]
    },
    {
     "ename": "ValueError",
     "evalue": "Classification metrics can't handle a mix of continuous and binary targets",
     "output_type": "error",
     "traceback": [
      "\u001b[0;31m---------------------------------------------------------------------------\u001b[0m",
      "\u001b[0;31mValueError\u001b[0m                                Traceback (most recent call last)",
      "Cell \u001b[0;32mIn[3], line 43\u001b[0m\n\u001b[1;32m     41\u001b[0m model \u001b[39m=\u001b[39m Stack_Ensemble_Model(copy\u001b[39m.\u001b[39mdeepcopy(model_dict),stack_model\u001b[39m=\u001b[39mstack_model,stack_training_split\u001b[39m=\u001b[39m\u001b[39m0.2\u001b[39m)\n\u001b[1;32m     42\u001b[0m \u001b[39m# model = Mean_Ensemble_Proba_Model(copy.deepcopy(model_dict))\u001b[39;00m\n\u001b[0;32m---> 43\u001b[0m cv_model, cv_df \u001b[39m=\u001b[39m model\u001b[39m.\u001b[39;49mcross_validation_evaluate(train_data, train_label, accuracy_score,n_splits\u001b[39m=\u001b[39;49m\u001b[39m5\u001b[39;49m)\n",
      "File \u001b[0;32m~/Project/Machine-Learning-Template/ml_template/model/basic_model.py:145\u001b[0m, in \u001b[0;36mMLModels.cross_validation_evaluate\u001b[0;34m(self, data, label, evaluation_fn, n_splits, n_repeats, verbose)\u001b[0m\n\u001b[1;32m    141\u001b[0m model \u001b[39m=\u001b[39m copy\u001b[39m.\u001b[39mdeepcopy(\u001b[39mself\u001b[39m)\n\u001b[1;32m    143\u001b[0m model\u001b[39m.\u001b[39mfit(cv_training_data,cv_training_label)\n\u001b[0;32m--> 145\u001b[0m eval_dict \u001b[39m=\u001b[39m model\u001b[39m.\u001b[39;49mevaluate(cv_validation_data, cv_validation_label ,evaluation_fn,verbose\u001b[39m=\u001b[39;49m\u001b[39mFalse\u001b[39;49;00m)\n\u001b[1;32m    146\u001b[0m eval_df \u001b[39m=\u001b[39m eval_dict[\u001b[39m'\u001b[39m\u001b[39meval_df\u001b[39m\u001b[39m'\u001b[39m]\n\u001b[1;32m    148\u001b[0m \u001b[39mif\u001b[39;00m eval_columns \u001b[39mis\u001b[39;00m \u001b[39mNone\u001b[39;00m:\n",
      "File \u001b[0;32m~/Project/Machine-Learning-Template/ml_template/model/basic_model.py:119\u001b[0m, in \u001b[0;36mMLModels.evaluate\u001b[0;34m(self, data, label, evaluation_fn, verbose)\u001b[0m\n\u001b[1;32m    116\u001b[0m eval_dict\u001b[39m=\u001b[39m{}\n\u001b[1;32m    118\u001b[0m \u001b[39mfor\u001b[39;00m model_name, pred \u001b[39min\u001b[39;00m model_dict_preds\u001b[39m.\u001b[39mitems():\n\u001b[0;32m--> 119\u001b[0m   eval_metric \u001b[39m=\u001b[39m evaluation_fn(pred,label)\n\u001b[1;32m    120\u001b[0m   eval_dict[model_name]\u001b[39m=\u001b[39meval_metric\n\u001b[1;32m    122\u001b[0m eval_df \u001b[39m=\u001b[39m eval_dict_to_dataframe(eval_dict)\n",
      "File \u001b[0;32m~/anaconda3/envs/torch/lib/python3.8/site-packages/sklearn/utils/_param_validation.py:192\u001b[0m, in \u001b[0;36mvalidate_params.<locals>.decorator.<locals>.wrapper\u001b[0;34m(*args, **kwargs)\u001b[0m\n\u001b[1;32m    187\u001b[0m validate_parameter_constraints(\n\u001b[1;32m    188\u001b[0m     parameter_constraints, params, caller_name\u001b[39m=\u001b[39mfunc\u001b[39m.\u001b[39m\u001b[39m__qualname__\u001b[39m\n\u001b[1;32m    189\u001b[0m )\n\u001b[1;32m    191\u001b[0m \u001b[39mtry\u001b[39;00m:\n\u001b[0;32m--> 192\u001b[0m     \u001b[39mreturn\u001b[39;00m func(\u001b[39m*\u001b[39;49margs, \u001b[39m*\u001b[39;49m\u001b[39m*\u001b[39;49mkwargs)\n\u001b[1;32m    193\u001b[0m \u001b[39mexcept\u001b[39;00m InvalidParameterError \u001b[39mas\u001b[39;00m e:\n\u001b[1;32m    194\u001b[0m     \u001b[39m# When the function is just a wrapper around an estimator, we allow\u001b[39;00m\n\u001b[1;32m    195\u001b[0m     \u001b[39m# the function to delegate validation to the estimator, but we replace\u001b[39;00m\n\u001b[1;32m    196\u001b[0m     \u001b[39m# the name of the estimator by the name of the function in the error\u001b[39;00m\n\u001b[1;32m    197\u001b[0m     \u001b[39m# message to avoid confusion.\u001b[39;00m\n\u001b[1;32m    198\u001b[0m     msg \u001b[39m=\u001b[39m re\u001b[39m.\u001b[39msub(\n\u001b[1;32m    199\u001b[0m         \u001b[39mr\u001b[39m\u001b[39m\"\u001b[39m\u001b[39mparameter of \u001b[39m\u001b[39m\\\u001b[39m\u001b[39mw+ must be\u001b[39m\u001b[39m\"\u001b[39m,\n\u001b[1;32m    200\u001b[0m         \u001b[39mf\u001b[39m\u001b[39m\"\u001b[39m\u001b[39mparameter of \u001b[39m\u001b[39m{\u001b[39;00mfunc\u001b[39m.\u001b[39m\u001b[39m__qualname__\u001b[39m\u001b[39m}\u001b[39;00m\u001b[39m must be\u001b[39m\u001b[39m\"\u001b[39m,\n\u001b[1;32m    201\u001b[0m         \u001b[39mstr\u001b[39m(e),\n\u001b[1;32m    202\u001b[0m     )\n",
      "File \u001b[0;32m~/anaconda3/envs/torch/lib/python3.8/site-packages/sklearn/metrics/_classification.py:221\u001b[0m, in \u001b[0;36maccuracy_score\u001b[0;34m(y_true, y_pred, normalize, sample_weight)\u001b[0m\n\u001b[1;32m    155\u001b[0m \u001b[39m\"\"\"Accuracy classification score.\u001b[39;00m\n\u001b[1;32m    156\u001b[0m \n\u001b[1;32m    157\u001b[0m \u001b[39mIn multilabel classification, this function computes subset accuracy:\u001b[39;00m\n\u001b[0;32m   (...)\u001b[0m\n\u001b[1;32m    217\u001b[0m \u001b[39m0.5\u001b[39;00m\n\u001b[1;32m    218\u001b[0m \u001b[39m\"\"\"\u001b[39;00m\n\u001b[1;32m    220\u001b[0m \u001b[39m# Compute accuracy for each possible representation\u001b[39;00m\n\u001b[0;32m--> 221\u001b[0m y_type, y_true, y_pred \u001b[39m=\u001b[39m _check_targets(y_true, y_pred)\n\u001b[1;32m    222\u001b[0m check_consistent_length(y_true, y_pred, sample_weight)\n\u001b[1;32m    223\u001b[0m \u001b[39mif\u001b[39;00m y_type\u001b[39m.\u001b[39mstartswith(\u001b[39m\"\u001b[39m\u001b[39mmultilabel\u001b[39m\u001b[39m\"\u001b[39m):\n",
      "File \u001b[0;32m~/anaconda3/envs/torch/lib/python3.8/site-packages/sklearn/metrics/_classification.py:95\u001b[0m, in \u001b[0;36m_check_targets\u001b[0;34m(y_true, y_pred)\u001b[0m\n\u001b[1;32m     92\u001b[0m     y_type \u001b[39m=\u001b[39m {\u001b[39m\"\u001b[39m\u001b[39mmulticlass\u001b[39m\u001b[39m\"\u001b[39m}\n\u001b[1;32m     94\u001b[0m \u001b[39mif\u001b[39;00m \u001b[39mlen\u001b[39m(y_type) \u001b[39m>\u001b[39m \u001b[39m1\u001b[39m:\n\u001b[0;32m---> 95\u001b[0m     \u001b[39mraise\u001b[39;00m \u001b[39mValueError\u001b[39;00m(\n\u001b[1;32m     96\u001b[0m         \u001b[39m\"\u001b[39m\u001b[39mClassification metrics can\u001b[39m\u001b[39m'\u001b[39m\u001b[39mt handle a mix of \u001b[39m\u001b[39m{0}\u001b[39;00m\u001b[39m and \u001b[39m\u001b[39m{1}\u001b[39;00m\u001b[39m targets\u001b[39m\u001b[39m\"\u001b[39m\u001b[39m.\u001b[39mformat(\n\u001b[1;32m     97\u001b[0m             type_true, type_pred\n\u001b[1;32m     98\u001b[0m         )\n\u001b[1;32m     99\u001b[0m     )\n\u001b[1;32m    101\u001b[0m \u001b[39m# We can't have more than one value on y_type => The set is no more needed\u001b[39;00m\n\u001b[1;32m    102\u001b[0m y_type \u001b[39m=\u001b[39m y_type\u001b[39m.\u001b[39mpop()\n",
      "\u001b[0;31mValueError\u001b[0m: Classification metrics can't handle a mix of continuous and binary targets"
     ]
    }
   ],
   "source": [
    "# split 9:1 \n",
    "train_data, train_label, test_data, test_label = KFold_Sampler(data,label,n_splits=10).get_multi_fold_data(n_fold=1)\n",
    "print(len(train_data),len(test_data),len(test_data)/(len(train_data)+len(test_data)))\n",
    "\n",
    "# define model list\n",
    "model_lgb = lgb.LGBMClassifier(is_unbalance=True)\n",
    "\n",
    "model_dict = {'RF_3':RandomForestClassifier(n_estimators=310,max_depth=3),\n",
    "              'RF_depth_None':RandomForestClassifier(n_estimators=310),\n",
    "              'XGB_31_3':XGBClassifier(n_estimators=31,max_depth=3),\n",
    "              'XGB_310_3':XGBClassifier(n_estimators=31,max_depth=3),\n",
    "              'XGB_31':XGBClassifier(n_estimators=31),\n",
    "              'XGB_310':XGBClassifier(n_estimators=310),\n",
    "              'SVM':SVC(probability=True),\n",
    "              'SVM_lin':SVC(kernel='linear',probability=True),\n",
    "              'SVM_rbf':SVC(kernel='rbf',probability=True),\n",
    "              'SVM_0.2':SVC(C=0.2,probability=True),\n",
    "              'SVM_0.2_lin':SVC(C=0.2,kernel='linear',probability=True),\n",
    "              'SVM_0.2_poly':SVC(C=0.2,kernel='poly',probability=True),\n",
    "              'SVM_5':SVC(C=5,probability=True),\n",
    "              'SVM_5_lin':SVC(C=5,kernel='linear',probability=True),\n",
    "              'SVM_5_poly':SVC(C=5,kernel='poly',probability=True),\n",
    "              # 'KNN_Cls':KNeighborsClassifier(),\n",
    "              'LGB_Cls':model_lgb,\n",
    "              # 'Ridge_Cls':RidgeClassifier(),\n",
    "              # 'MLP_Cls':MLPClassifier(activation = \"relu\", alpha = 0.001, hidden_layer_sizes = (56,10),\n",
    "              #               learning_rate = \"constant\", max_iter = 3000, random_state = 3000,early_stopping=True),\n",
    "              # 'QDA':QuadraticDiscriminantAnalysis(),\n",
    "              }\n",
    "#stack_model=MLPClassifier(activation = \"relu\", alpha = 0.0001,validation_fraction=0.1, hidden_layer_sizes = (38),learning_rate = \"constant\", max_iter = 3000, random_state = 1000,early_stopping=True)\n",
    "# stack_model=SVC(C=1,kernel='linear', probability=True)\n",
    "#stack_model = DecisionTreeClassifier()\n",
    "num_model = len(list(model_dict.keys()))\n",
    "num_classes=1\n",
    "stack_model=ML_Weighted_Model(num_model,\n",
    "                              num_classes,\n",
    "                              epoch=300,\n",
    "                              model_reg=0.00,\n",
    "                              classes_reg=0.00,\n",
    "                              l1_norm=0.00)\n",
    "model = Stack_Ensemble_Model(copy.deepcopy(model_dict),stack_model=stack_model,stack_training_split=0.2)\n",
    "# model = Mean_Ensemble_Proba_Model(copy.deepcopy(model_dict))\n",
    "cv_model, cv_df = model.cross_validation_evaluate(train_data, train_label, accuracy_score,n_splits=5)"
   ]
  },
  {
   "cell_type": "code",
   "execution_count": null,
   "metadata": {},
   "outputs": [
    {
     "data": {
      "text/plain": [
       "array([0.21666928, 0.27856308, 0.25517422, 0.25517422, 0.4612457 ,\n",
       "       0.51351154, 0.21563563, 0.38324866, 0.21563563, 0.7699878 ,\n",
       "       0.7699878 , 0.21589272, 0.2693313 , 0.56299675, 0.44208306,\n",
       "       0.6416656 ], dtype=float32)"
      ]
     },
     "metadata": {},
     "output_type": "display_data"
    },
    {
     "data": {
      "text/plain": [
       "['RF_3',\n",
       " 'RF_depth_None',\n",
       " 'XGB_31_3',\n",
       " 'XGB_310_3',\n",
       " 'XGB_31',\n",
       " 'XGB_310',\n",
       " 'SVM',\n",
       " 'SVM_lin',\n",
       " 'SVM_rbf',\n",
       " 'SVM_0.2',\n",
       " 'SVM_0.2_lin',\n",
       " 'SVM_0.2_poly',\n",
       " 'SVM_5',\n",
       " 'SVM_5_lin',\n",
       " 'SVM_5_poly',\n",
       " 'LGB_Cls']"
      ]
     },
     "metadata": {},
     "output_type": "display_data"
    },
    {
     "data": {
      "text/plain": [
       "array([[0.22],\n",
       "       [0.28],\n",
       "       [0.26],\n",
       "       [0.26],\n",
       "       [0.46],\n",
       "       [0.51],\n",
       "       [0.22],\n",
       "       [0.38],\n",
       "       [0.22],\n",
       "       [0.77],\n",
       "       [0.77],\n",
       "       [0.22],\n",
       "       [0.27],\n",
       "       [0.56],\n",
       "       [0.44],\n",
       "       [0.64]], dtype=float32)"
      ]
     },
     "metadata": {},
     "output_type": "display_data"
    },
    {
     "data": {
      "image/png": "[encoded data removed]",
      "text/plain": [
       "<Figure size 640x480 with 1 Axes>"
      ]
     },
     "metadata": {},
     "output_type": "display_data"
    }
   ],
   "source": [
    "weights = cv_model[0].stack_model.weights.data.detach().numpy()\n",
    "for i in range(1,len(cv_model)):\n",
    "  weights = np.add(cv_model[i].stack_model.weights.data.detach().numpy(),weights)\n",
    "\n",
    "weights = weights/len(cv_model)\n",
    "importance = np.array(weights.mean(axis=1))\n",
    "model_name = list(model_dict.keys())\n",
    "display(importance,model_name)\n",
    "display(np.round(weights,decimals=2))\n",
    "zipped = list(zip(model_name,importance))\n",
    "sorted_zipped = sorted(zipped, key=lambda x: x[1])[::-1]\n",
    "model_name, importance = zip(*sorted_zipped)\n",
    "importance = np.array(importance)\n",
    "sns.barplot(y=list(model_name),x=importance)\n",
    "plt.show()"
   ]
  },
  {
   "cell_type": "code",
   "execution_count": null,
   "metadata": {},
   "outputs": [],
   "source": [
    "stack_model = ML_Weighted_Model(5,2,epoch=10000,init_mode='rand',l1_norm=0)"
   ]
  },
  {
   "cell_type": "code",
   "execution_count": null,
   "metadata": {},
   "outputs": [],
   "source": [
    "\n",
    "#stack_model = DecisionTreeClassifier()\n",
    "cv_ensemble_model = Stack_Ensemble_Proba_Model(model_dict=cv_model, stack_model=copy.deepcopy(stack_model), stack_training_split=0.3)\n",
    "# cv_ensemble_model = Mean_Ensemble_Proba_Model(cv_model)\n",
    "cv_ensemble_model.fit(train_data,train_label)\n",
    "# # cv_ensemble_model.fit(train_data,train_label)\n",
    "# print('========== Ensemble Model ==========')\n",
    "# _=model.evaluate(test_data,test_label,evaluation_fn=accuracy_score,verbose=True)\n",
    "print('========== CV Ensemble Model ==========')\n",
    "_=cv_ensemble_model.evaluate(test_data,test_label,evaluation_fn=accuracy_score,verbose=True)"
   ]
  },
  {
   "cell_type": "code",
   "execution_count": null,
   "metadata": {},
   "outputs": [],
   "source": [
    "cv_ensemble_model.evaluate(train_data,train_label,accuracy_score)"
   ]
  },
  {
   "cell_type": "code",
   "execution_count": null,
   "metadata": {},
   "outputs": [],
   "source": [
    "test_data = test_df.values[:,1:]\n",
    "test_data = qt.transform(test_data)\n",
    "test_pred = model.predict(test_data)\n",
    "test_pred"
   ]
  },
  {
   "cell_type": "code",
   "execution_count": null,
   "metadata": {},
   "outputs": [],
   "source": [
    "import torch"
   ]
  },
  {
   "cell_type": "code",
   "execution_count": null,
   "metadata": {},
   "outputs": [],
   "source": []
  }
 ],
 "metadata": {
  "kernelspec": {
   "display_name": "torch",
   "language": "python",
   "name": "python3"
  },
  "language_info": {
   "codemirror_mode": {
    "name": "ipython",
    "version": 3
   },
   "file_extension": ".py",
   "mimetype": "text/x-python",
   "name": "python",
   "nbconvert_exporter": "python",
   "pygments_lexer": "ipython3",
   "version": "3.8.15"
  },
  "orig_nbformat": 4
 },
 "nbformat": 4,
 "nbformat_minor": 2
}
