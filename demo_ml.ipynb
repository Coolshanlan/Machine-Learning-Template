{
 "cells": [
  {
   "cell_type": "code",
   "execution_count": 1,
   "metadata": {},
   "outputs": [],
   "source": [
    "import pandas as pd\n",
    "import numpy as np\n",
    "from sklearn.ensemble import RandomForestClassifier\n",
    "from sklearn.preprocessing import QuantileTransformer\n",
    "from sklearn.metrics import accuracy_score\n",
    "from sklearn.model_selection import StratifiedKFold, RepeatedStratifiedKFold\n",
    "from imblearn.combine import SMOTEENN\n",
    "import sys\n",
    "sys.path.append('/home/coolshan/Project/Efficient-Pytorch-Template')\n",
    "from efficient.ml_model import *\n",
    "from efficient.utils import *\n",
    "from efficient.eval_utils import *\n",
    "\n",
    "data_df = pd.read_excel('data/train.xlsx')\n",
    "test_df = pd.read_excel('data/test.xlsx')\n",
    "submission_df = pd.read_csv('data/submission.csv')"
   ]
  },
  {
   "cell_type": "code",
   "execution_count": 2,
   "metadata": {},
   "outputs": [],
   "source": [
    "data = data_df.values[:,:-1]\n",
    "label=data_df.values[:,-1]\n",
    "qt = QuantileTransformer(n_quantiles=100)\n",
    "data = qt.fit_transform(data)"
   ]
  },
  {
   "cell_type": "code",
   "execution_count": 3,
   "metadata": {},
   "outputs": [
    {
     "name": "stdout",
     "output_type": "stream",
     "text": [
      "3510 393 0.10069177555726365\n"
     ]
    },
    {
     "name": "stderr",
     "output_type": "stream",
     "text": [
      "                                                                              \r"
     ]
    },
    {
     "name": "stdout",
     "output_type": "stream",
     "text": [
      "Parameter containing:\n",
      "tensor([[0.0000, 0.0000],\n",
      "        [0.9655, 0.9655],\n",
      "        [0.8162, 0.8162],\n",
      "        [0.8162, 0.8162],\n",
      "        [1.0851, 1.0851],\n",
      "        [1.0993, 1.0993],\n",
      "        [0.0000, 0.0000],\n",
      "        [0.0000, 0.0000],\n",
      "        [0.0000, 0.0000],\n",
      "        [0.0000, 0.0000],\n",
      "        [0.0000, 0.0000],\n",
      "        [0.0000, 0.0000],\n",
      "        [0.3301, 0.3301],\n",
      "        [0.0000, 0.0000],\n",
      "        [0.0000, 0.0000],\n",
      "        [1.0788, 1.0788]], requires_grad=True)\n"
     ]
    },
    {
     "name": "stderr",
     "output_type": "stream",
     "text": [
      "                                                                              \r"
     ]
    },
    {
     "name": "stdout",
     "output_type": "stream",
     "text": [
      "\n",
      "\n",
      "====== CV:0 ======\n",
      "             model  eval_metric\n",
      "0             RF_3     0.675214\n",
      "1      SVM_0.2_lin     0.686610\n",
      "2        SVM_5_lin     0.689459\n",
      "3          SVM_lin     0.689459\n",
      "4          SVM_0.2     0.695157\n",
      "5          XGB_310     0.707977\n",
      "6     SVM_0.2_poly     0.716524\n",
      "7       SVM_5_poly     0.720798\n",
      "8          LGB_Cls     0.727920\n",
      "9           XGB_31     0.730769\n",
      "10         SVM_rbf     0.733618\n",
      "11             SVM     0.733618\n",
      "12       XGB_310_3     0.735043\n",
      "13        XGB_31_3     0.735043\n",
      "14   RF_depth_None     0.747863\n",
      "15  Ensemble Model     0.757835\n",
      "16           SVM_5     0.762108\n"
     ]
    },
    {
     "name": "stderr",
     "output_type": "stream",
     "text": [
      "                                                                              \r"
     ]
    },
    {
     "name": "stdout",
     "output_type": "stream",
     "text": [
      "Parameter containing:\n",
      "tensor([[0.0000, 0.0000],\n",
      "        [1.0339, 1.0339],\n",
      "        [0.5275, 0.5275],\n",
      "        [0.5275, 0.5275],\n",
      "        [1.0759, 1.0759],\n",
      "        [1.0989, 1.0989],\n",
      "        [0.0000, 0.0000],\n",
      "        [0.0000, 0.0000],\n",
      "        [0.0000, 0.0000],\n",
      "        [0.0000, 0.0000],\n",
      "        [0.0000, 0.0000],\n",
      "        [0.0000, 0.0000],\n",
      "        [0.3650, 0.3650],\n",
      "        [0.0000, 0.0000],\n",
      "        [0.0000, 0.0000],\n",
      "        [1.0825, 1.0825]], requires_grad=True)\n"
     ]
    },
    {
     "name": "stderr",
     "output_type": "stream",
     "text": [
      "                                                                              \r"
     ]
    },
    {
     "name": "stdout",
     "output_type": "stream",
     "text": [
      "\n",
      "\n",
      "====== CV:1 ======\n",
      "             model  eval_metric\n",
      "0             RF_3     0.665242\n",
      "1      SVM_0.2_lin     0.672365\n",
      "2          SVM_0.2     0.673789\n",
      "3        SVM_5_lin     0.679487\n",
      "4          SVM_lin     0.679487\n",
      "5         XGB_31_3     0.695157\n",
      "6        XGB_310_3     0.695157\n",
      "7          LGB_Cls     0.696581\n",
      "8     SVM_0.2_poly     0.698006\n",
      "9          XGB_310     0.699430\n",
      "10      SVM_5_poly     0.703704\n",
      "11         SVM_rbf     0.705128\n",
      "12             SVM     0.705128\n",
      "13          XGB_31     0.709402\n",
      "14           SVM_5     0.710826\n",
      "15  Ensemble Model     0.722222\n",
      "16   RF_depth_None     0.729345\n"
     ]
    },
    {
     "name": "stderr",
     "output_type": "stream",
     "text": [
      "                                                                              \r"
     ]
    },
    {
     "name": "stdout",
     "output_type": "stream",
     "text": [
      "Parameter containing:\n",
      "tensor([[0.0000, 0.0000],\n",
      "        [0.8753, 0.8753],\n",
      "        [0.9362, 0.9362],\n",
      "        [0.9362, 0.9362],\n",
      "        [1.0453, 1.0453],\n",
      "        [1.0985, 1.0985],\n",
      "        [0.0000, 0.0000],\n",
      "        [0.0000, 0.0000],\n",
      "        [0.0000, 0.0000],\n",
      "        [0.0000, 0.0000],\n",
      "        [0.0000, 0.0000],\n",
      "        [0.0000, 0.0000],\n",
      "        [0.8147, 0.8147],\n",
      "        [0.0000, 0.0000],\n",
      "        [0.0000, 0.0000],\n",
      "        [1.0536, 1.0536]], requires_grad=True)\n"
     ]
    },
    {
     "name": "stderr",
     "output_type": "stream",
     "text": [
      "                                                                              \r"
     ]
    },
    {
     "name": "stdout",
     "output_type": "stream",
     "text": [
      "\n",
      "\n",
      "====== CV:2 ======\n",
      "             model  eval_metric\n",
      "0             RF_3     0.656695\n",
      "1          SVM_0.2     0.689459\n",
      "2          SVM_lin     0.692308\n",
      "3        SVM_5_lin     0.693732\n",
      "4      SVM_0.2_lin     0.696581\n",
      "5       SVM_5_poly     0.700855\n",
      "6           XGB_31     0.707977\n",
      "7          LGB_Cls     0.710826\n",
      "8     SVM_0.2_poly     0.717949\n",
      "9          XGB_310     0.719373\n",
      "10         SVM_rbf     0.722222\n",
      "11             SVM     0.723647\n",
      "12       XGB_310_3     0.725071\n",
      "13           SVM_5     0.725071\n",
      "14        XGB_31_3     0.725071\n",
      "15  Ensemble Model     0.736467\n",
      "16   RF_depth_None     0.747863\n"
     ]
    },
    {
     "name": "stderr",
     "output_type": "stream",
     "text": [
      "                                                                              \r"
     ]
    },
    {
     "name": "stdout",
     "output_type": "stream",
     "text": [
      "Parameter containing:\n",
      "tensor([[0.0000, 0.0000],\n",
      "        [0.4052, 0.4052],\n",
      "        [0.0000, 0.0000],\n",
      "        [0.0000, 0.0000],\n",
      "        [1.0977, 1.0977],\n",
      "        [1.1112, 1.1112],\n",
      "        [0.0000, 0.0000],\n",
      "        [0.0000, 0.0000],\n",
      "        [0.0000, 0.0000],\n",
      "        [0.0000, 0.0000],\n",
      "        [0.0000, 0.0000],\n",
      "        [0.0000, 0.0000],\n",
      "        [0.9981, 0.9981],\n",
      "        [0.0000, 0.0000],\n",
      "        [0.0000, 0.0000],\n",
      "        [1.0814, 1.0814]], requires_grad=True)\n"
     ]
    },
    {
     "name": "stderr",
     "output_type": "stream",
     "text": [
      "                                                                              \r"
     ]
    },
    {
     "name": "stdout",
     "output_type": "stream",
     "text": [
      "\n",
      "\n",
      "====== CV:3 ======\n",
      "             model  eval_metric\n",
      "0          SVM_lin     0.659544\n",
      "1      SVM_0.2_lin     0.660969\n",
      "2        SVM_5_lin     0.662393\n",
      "3             RF_3     0.683761\n",
      "4          SVM_0.2     0.686610\n",
      "5     SVM_0.2_poly     0.692308\n",
      "6              SVM     0.700855\n",
      "7          SVM_rbf     0.702279\n",
      "8        XGB_310_3     0.712251\n",
      "9         XGB_31_3     0.712251\n",
      "10      SVM_5_poly     0.712251\n",
      "11         XGB_310     0.723647\n",
      "12   RF_depth_None     0.729345\n",
      "13           SVM_5     0.732194\n",
      "14         LGB_Cls     0.735043\n",
      "15  Ensemble Model     0.740741\n",
      "16          XGB_31     0.743590\n"
     ]
    },
    {
     "name": "stderr",
     "output_type": "stream",
     "text": [
      "                                                                              \r"
     ]
    },
    {
     "name": "stdout",
     "output_type": "stream",
     "text": [
      "Parameter containing:\n",
      "tensor([[0.0000, 0.0000],\n",
      "        [0.9736, 0.9736],\n",
      "        [0.9596, 0.9596],\n",
      "        [0.9596, 0.9596],\n",
      "        [1.0592, 1.0592],\n",
      "        [1.0945, 1.0945],\n",
      "        [0.0000, 0.0000],\n",
      "        [0.0000, 0.0000],\n",
      "        [0.0000, 0.0000],\n",
      "        [0.0000, 0.0000],\n",
      "        [0.0000, 0.0000],\n",
      "        [0.0000, 0.0000],\n",
      "        [0.6430, 0.6430],\n",
      "        [0.0000, 0.0000],\n",
      "        [0.0000, 0.0000],\n",
      "        [1.0468, 1.0468]], requires_grad=True)\n"
     ]
    },
    {
     "name": "stderr",
     "output_type": "stream",
     "text": [
      "                                                                              \r"
     ]
    },
    {
     "name": "stdout",
     "output_type": "stream",
     "text": [
      "\n",
      "\n",
      "====== CV:4 ======\n",
      "             model  eval_metric\n",
      "0      SVM_0.2_lin     0.658120\n",
      "1             RF_3     0.666667\n",
      "2          SVM_lin     0.666667\n",
      "3        SVM_5_lin     0.678063\n",
      "4          SVM_0.2     0.693732\n",
      "5     SVM_0.2_poly     0.700855\n",
      "6       SVM_5_poly     0.705128\n",
      "7          SVM_rbf     0.705128\n",
      "8              SVM     0.706553\n",
      "9          LGB_Cls     0.712251\n",
      "10           SVM_5     0.713675\n",
      "11          XGB_31     0.717949\n",
      "12       XGB_310_3     0.720798\n",
      "13        XGB_31_3     0.720798\n",
      "14  Ensemble Model     0.720798\n",
      "15   RF_depth_None     0.723647\n",
      "16         XGB_310     0.726496\n",
      "\n",
      "====== CV Mean ======\n",
      "             model  eval_metric\n",
      "0             RF_3     0.669516\n",
      "1      SVM_0.2_lin     0.674929\n",
      "2          SVM_lin     0.677493\n",
      "3        SVM_5_lin     0.680627\n",
      "4          SVM_0.2     0.687749\n",
      "5     SVM_0.2_poly     0.705128\n",
      "6       SVM_5_poly     0.708547\n",
      "7          SVM_rbf     0.713675\n",
      "8              SVM     0.713960\n",
      "9          XGB_310     0.715385\n",
      "10         LGB_Cls     0.716524\n",
      "11        XGB_31_3     0.717664\n",
      "12       XGB_310_3     0.717664\n",
      "13          XGB_31     0.721937\n",
      "14           SVM_5     0.728775\n",
      "15   RF_depth_None     0.735613\n",
      "16  Ensemble Model     0.735613\n"
     ]
    }
   ],
   "source": [
    "# split 9:1 \n",
    "train_data, train_label, test_data, test_label = KFold_Sampler(data,label,n_splits=100).get_multi_fold_data(n_fold=10)\n",
    "print(len(train_data),len(test_data),len(test_data)/(len(train_data)+len(test_data)))\n",
    "\n",
    "# define model list\n",
    "model_lgb = lgb.LGBMClassifier(is_unbalance=True)\n",
    "\n",
    "model_dict = {'RF_3':RandomForestClassifier(n_estimators=310,max_depth=3),\n",
    "              'RF_depth_None':RandomForestClassifier(n_estimators=310),\n",
    "              'XGB_31_3':XGBClassifier(n_estimators=31,max_depth=3),\n",
    "              'XGB_310_3':XGBClassifier(n_estimators=31,max_depth=3),\n",
    "              'XGB_31':XGBClassifier(n_estimators=31),\n",
    "              'XGB_310':XGBClassifier(n_estimators=310),\n",
    "              'SVM':SVC(probability=True),\n",
    "              'SVM_lin':SVC(kernel='linear',probability=True),\n",
    "              'SVM_rbf':SVC(kernel='rbf',probability=True),\n",
    "              'SVM_0.2':SVC(C=0.2,probability=True),\n",
    "              'SVM_0.2_lin':SVC(C=0.2,kernel='linear',probability=True),\n",
    "              'SVM_0.2_poly':SVC(C=0.2,kernel='poly',probability=True),\n",
    "              'SVM_5':SVC(C=5,probability=True),\n",
    "              'SVM_5_lin':SVC(C=5,kernel='linear',probability=True),\n",
    "              'SVM_5_poly':SVC(C=5,kernel='poly',probability=True),\n",
    "              # 'KNN_Cls':KNeighborsClassifier(),\n",
    "              'LGB_Cls':model_lgb,\n",
    "              # 'Ridge_Cls':RidgeClassifier(),\n",
    "              # 'MLP_Cls':MLPClassifier(activation = \"relu\", alpha = 0.001, hidden_layer_sizes = (56,10),\n",
    "              #               learning_rate = \"constant\", max_iter = 3000, random_state = 3000,early_stopping=True),\n",
    "              # 'QDA':QuadraticDiscriminantAnalysis(),\n",
    "              }\n",
    "#stack_model=MLPClassifier(activation = \"relu\", alpha = 0.0001,validation_fraction=0.1, hidden_layer_sizes = (38),learning_rate = \"constant\", max_iter = 3000, random_state = 1000,early_stopping=True)\n",
    "# stack_model=SVC(C=1,kernel='linear', probability=True)\n",
    "#stack_model = DecisionTreeClassifier()\n",
    "model = Stack_Ensemble_Proba_Model(copy.deepcopy(model_dict),stack_model=ML_Weighted_Model(len(list(model_dict.keys())),2,\n",
    "                                                                                                     model_reg=0.00,\n",
    "                                                                                                     classes_reg=0.00,\n",
    "                                                                                                     l1_norm=0.00),stack_training_split=0.2)\n",
    "# model = Mean_Ensemble_Proba_Model(copy.deepcopy(model_dict))\n",
    "cv_model, cv_df = model.cross_validation_evaluate(train_data, train_label, accuracy_score,n_splits=5)"
   ]
  },
  {
   "cell_type": "code",
   "execution_count": 4,
   "metadata": {},
   "outputs": [
    {
     "data": {
      "text/plain": [
       "array([0.       , 0.8506971, 0.6479019, 0.6479019, 1.0726264, 1.1005089,\n",
       "       0.       , 0.       , 0.       , 0.       , 0.       , 0.       ,\n",
       "       0.6301796, 0.       , 0.       , 1.0686307], dtype=float32)"
      ]
     },
     "metadata": {},
     "output_type": "display_data"
    },
    {
     "data": {
      "text/plain": [
       "['RF_3',\n",
       " 'RF_depth_None',\n",
       " 'XGB_31_3',\n",
       " 'XGB_310_3',\n",
       " 'XGB_31',\n",
       " 'XGB_310',\n",
       " 'SVM',\n",
       " 'SVM_lin',\n",
       " 'SVM_rbf',\n",
       " 'SVM_0.2',\n",
       " 'SVM_0.2_lin',\n",
       " 'SVM_0.2_poly',\n",
       " 'SVM_5',\n",
       " 'SVM_5_lin',\n",
       " 'SVM_5_poly',\n",
       " 'LGB_Cls']"
      ]
     },
     "metadata": {},
     "output_type": "display_data"
    },
    {
     "data": {
      "text/plain": [
       "array([[0.  , 0.  ],\n",
       "       [0.85, 0.85],\n",
       "       [0.65, 0.65],\n",
       "       [0.65, 0.65],\n",
       "       [1.07, 1.07],\n",
       "       [1.1 , 1.1 ],\n",
       "       [0.  , 0.  ],\n",
       "       [0.  , 0.  ],\n",
       "       [0.  , 0.  ],\n",
       "       [0.  , 0.  ],\n",
       "       [0.  , 0.  ],\n",
       "       [0.  , 0.  ],\n",
       "       [0.63, 0.63],\n",
       "       [0.  , 0.  ],\n",
       "       [0.  , 0.  ],\n",
       "       [1.07, 1.07]], dtype=float32)"
      ]
     },
     "metadata": {},
     "output_type": "display_data"
    },
    {
     "data": {
      "image/png": "[encoded data removed]",
      "text/plain": [
       "<Figure size 640x480 with 1 Axes>"
      ]
     },
     "metadata": {},
     "output_type": "display_data"
    }
   ],
   "source": [
    "weights = cv_model[0].stack_model.weights.data.detach().numpy()\n",
    "for i in range(1,len(cv_model)):\n",
    "  weights = np.add(cv_model[i].stack_model.weights.data.detach().numpy(),weights)\n",
    "\n",
    "weights = weights/len(cv_model)\n",
    "importance = np.array(weights.mean(axis=1))\n",
    "model_name = list(model_dict.keys())\n",
    "display(importance,model_name)\n",
    "display(np.round(weights,decimals=2))\n",
    "zipped = list(zip(model_name,importance))\n",
    "sorted_zipped = sorted(zipped, key=lambda x: x[1])[::-1]\n",
    "model_name, importance = zip(*sorted_zipped)\n",
    "importance = np.array(importance)\n",
    "sns.barplot(y=list(model_name),x=importance)\n",
    "plt.show()"
   ]
  },
  {
   "cell_type": "code",
   "execution_count": null,
   "metadata": {},
   "outputs": [],
   "source": [
    "stack_model = ML_Weighted_Model(5,2,epoch=10000,init_mode='rand',l1_norm=0)"
   ]
  },
  {
   "cell_type": "code",
   "execution_count": null,
   "metadata": {},
   "outputs": [],
   "source": [
    "\n",
    "#stack_model = DecisionTreeClassifier()\n",
    "cv_ensemble_model = Stack_Ensemble_Proba_Model(model_dict=cv_model, stack_model=copy.deepcopy(stack_model), stack_training_split=0.3)\n",
    "# cv_ensemble_model = Mean_Ensemble_Proba_Model(cv_model)\n",
    "cv_ensemble_model.fit(train_data,train_label)\n",
    "# # cv_ensemble_model.fit(train_data,train_label)\n",
    "# print('========== Ensemble Model ==========')\n",
    "# _=model.evaluate(test_data,test_label,evaluation_fn=accuracy_score,verbose=True)\n",
    "print('========== CV Ensemble Model ==========')\n",
    "_=cv_ensemble_model.evaluate(test_data,test_label,evaluation_fn=accuracy_score,verbose=True)"
   ]
  },
  {
   "cell_type": "code",
   "execution_count": null,
   "metadata": {},
   "outputs": [],
   "source": [
    "cv_ensemble_model.evaluate(train_data,train_label,accuracy_score)"
   ]
  },
  {
   "cell_type": "code",
   "execution_count": null,
   "metadata": {},
   "outputs": [],
   "source": [
    "test_data = test_df.values[:,1:]\n",
    "test_data = qt.transform(test_data)\n",
    "test_pred = model.predict(test_data)\n",
    "test_pred"
   ]
  },
  {
   "cell_type": "code",
   "execution_count": null,
   "metadata": {},
   "outputs": [],
   "source": [
    "import torch"
   ]
  },
  {
   "cell_type": "code",
   "execution_count": null,
   "metadata": {},
   "outputs": [],
   "source": []
  }
 ],
 "metadata": {
  "kernelspec": {
   "display_name": "torch",
   "language": "python",
   "name": "python3"
  },
  "language_info": {
   "codemirror_mode": {
    "name": "ipython",
    "version": 3
   },
   "file_extension": ".py",
   "mimetype": "text/x-python",
   "name": "python",
   "nbconvert_exporter": "python",
   "pygments_lexer": "ipython3",
   "version": "3.8.15"
  },
  "orig_nbformat": 4
 },
 "nbformat": 4,
 "nbformat_minor": 2
}
